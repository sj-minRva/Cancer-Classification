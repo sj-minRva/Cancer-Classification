{
  "cells": [
    {
      "cell_type": "markdown",
      "metadata": {
        "colab_type": "text",
        "id": "view-in-github"
      },
      "source": [
        "<a href=\"https://colab.research.google.com/github/sj-minRva/Cancer-Classification/blob/main/Breast_Cancer.ipynb\" target=\"_parent\"><img src=\"https://colab.research.google.com/assets/colab-badge.svg\" alt=\"Open In Colab\"/></a>"
      ]
    },
    {
      "cell_type": "code",
      "execution_count": 7,
      "metadata": {
        "id": "FRUhFS1zXg39"
      },
      "outputs": [],
      "source": [
        "import pandas as pd\n",
        "import numpy as np\n",
        "import xgboost as xgb\n",
        "from xgboost import XGBClassifier\n",
        "from sklearn.model_selection import train_test_split\n",
        "from sklearn.ensemble import RandomForestClassifier\n",
        "from sklearn.metrics import accuracy_score, precision_score, roc_auc_score, cohen_kappa_score\n",
        "from sklearn.preprocessing import LabelEncoder\n",
        "from sklearn.linear_model import LogisticRegression\n",
        "from sklearn.svm import SVC\n",
        "from sklearn.feature_selection import VarianceThreshold\n",
        "from sklearn.utils import shuffle"
      ]
    },
    {
      "cell_type": "code",
      "execution_count": 8,
      "metadata": {
        "colab": {
          "base_uri": "https://localhost:8080/"
        },
        "id": "3I5DPauaeGwO",
        "outputId": "b4c80299-4d0f-4b6e-ab5e-8514011a1fa4"
      },
      "outputs": [
        {
          "name": "stdout",
          "output_type": "stream",
          "text": [
            "Index(['TSPAN6', 'TNMD', 'DPM1', 'SCYL3', 'FIRRM', 'FGR', 'CFH', 'FUCA2',\n",
            "       'GCLC', 'NFYA',\n",
            "       ...\n",
            "       'C8orf44-SGK3', 'SNORA74C-2', 'ELOA3BP', 'NPBWR1', 'ELOA3DP', 'LNCDAT',\n",
            "       'LOC124902537', 'RNF228', 'PANO1', 'classes'],\n",
            "      dtype='object', length=31575)\n"
          ]
        }
      ],
      "source": [
        "# Load the dataset\n",
        "df = pd.read_csv(\"C:/RHEA/S7/Project/Code/Datasets/BRCA_gene_expression.csv\", index_col=\"Unnamed: 0\")\n",
        "\n",
        "print(df.columns)\n"
      ]
    },
    {
      "cell_type": "code",
      "execution_count": 9,
      "metadata": {
        "id": "3TN5898Uectz"
      },
      "outputs": [],
      "source": [
        "# Encode the target variable\n",
        "le = LabelEncoder()\n",
        "df[\"classes\"] = le.fit_transform(df[\"classes\"])  # Convert categorical labels to 0 and 1\n"
      ]
    },
    {
      "cell_type": "code",
      "execution_count": 10,
      "metadata": {
        "id": "wYTallM6egGp"
      },
      "outputs": [],
      "source": [
        "# Define features and target\n",
        "X = df.drop(columns=[\"classes\"])\n",
        "y = df[\"classes\"]"
      ]
    },
    {
      "cell_type": "code",
      "execution_count": 11,
      "metadata": {
        "id": "eLIQ6PzJejHb"
      },
      "outputs": [],
      "source": [
        "# Split dataset into training and testing sets (80-20 split)\n",
        "X_train, X_test, y_train, y_test = train_test_split(X, y, test_size=0.3, random_state=42, stratify=y)\n"
      ]
    },
    {
      "cell_type": "code",
      "execution_count": 12,
      "metadata": {
        "colab": {
          "base_uri": "https://localhost:8080/"
        },
        "id": "ET-pO65Gibz8",
        "outputId": "6ac7643a-b7aa-464b-c384-2f51417bb91b"
      },
      "outputs": [
        {
          "name": "stdout",
          "output_type": "stream",
          "text": [
            "Training set shape: (856, 31574)\n",
            "Testing set shape: (368, 31574)\n"
          ]
        }
      ],
      "source": [
        "print(\"Training set shape:\", X_train.shape)\n",
        "print(\"Testing set shape:\", X_test.shape)"
      ]
    },
    {
      "cell_type": "code",
      "execution_count": 13,
      "metadata": {
        "id": "P233Wc5zjVYC"
      },
      "outputs": [],
      "source": [
        "df = df.iloc[:,1:]\n"
      ]
    },
    {
      "cell_type": "code",
      "execution_count": 14,
      "metadata": {
        "colab": {
          "base_uri": "https://localhost:8080/",
          "height": 1000
        },
        "id": "7XBhTr6baxdQ",
        "outputId": "97cffb1d-1177-4672-de8c-df4b9bdabba3"
      },
      "outputs": [
        {
          "data": {
            "text/html": [
              "<div>\n",
              "<style scoped>\n",
              "    .dataframe tbody tr th:only-of-type {\n",
              "        vertical-align: middle;\n",
              "    }\n",
              "\n",
              "    .dataframe tbody tr th {\n",
              "        vertical-align: top;\n",
              "    }\n",
              "\n",
              "    .dataframe thead th {\n",
              "        text-align: right;\n",
              "    }\n",
              "</style>\n",
              "<table border=\"1\" class=\"dataframe\">\n",
              "  <thead>\n",
              "    <tr style=\"text-align: right;\">\n",
              "      <th></th>\n",
              "      <th>TNMD</th>\n",
              "      <th>DPM1</th>\n",
              "      <th>SCYL3</th>\n",
              "      <th>FIRRM</th>\n",
              "      <th>FGR</th>\n",
              "      <th>CFH</th>\n",
              "      <th>FUCA2</th>\n",
              "      <th>GCLC</th>\n",
              "      <th>NFYA</th>\n",
              "      <th>STPG1</th>\n",
              "      <th>...</th>\n",
              "      <th>C8orf44-SGK3</th>\n",
              "      <th>SNORA74C-2</th>\n",
              "      <th>ELOA3BP</th>\n",
              "      <th>NPBWR1</th>\n",
              "      <th>ELOA3DP</th>\n",
              "      <th>LNCDAT</th>\n",
              "      <th>LOC124902537</th>\n",
              "      <th>RNF228</th>\n",
              "      <th>PANO1</th>\n",
              "      <th>classes</th>\n",
              "    </tr>\n",
              "  </thead>\n",
              "  <tbody>\n",
              "    <tr>\n",
              "      <th>TCGA-A2-A25D-01A-12R-A16F-07</th>\n",
              "      <td>3.321928</td>\n",
              "      <td>10.802516</td>\n",
              "      <td>10.412570</td>\n",
              "      <td>8.761551</td>\n",
              "      <td>9.859535</td>\n",
              "      <td>11.256209</td>\n",
              "      <td>12.131857</td>\n",
              "      <td>11.154185</td>\n",
              "      <td>11.294621</td>\n",
              "      <td>9.082149</td>\n",
              "      <td>...</td>\n",
              "      <td>0.0</td>\n",
              "      <td>1.0</td>\n",
              "      <td>0.0</td>\n",
              "      <td>0.000000</td>\n",
              "      <td>0.0</td>\n",
              "      <td>0.000000</td>\n",
              "      <td>0.0</td>\n",
              "      <td>3.459432</td>\n",
              "      <td>4.459432</td>\n",
              "      <td>0</td>\n",
              "    </tr>\n",
              "    <tr>\n",
              "      <th>TCGA-BH-A201-01A-11R-A14M-07</th>\n",
              "      <td>4.954196</td>\n",
              "      <td>11.309476</td>\n",
              "      <td>10.865733</td>\n",
              "      <td>9.799282</td>\n",
              "      <td>9.475733</td>\n",
              "      <td>12.087794</td>\n",
              "      <td>11.087463</td>\n",
              "      <td>11.272047</td>\n",
              "      <td>11.890644</td>\n",
              "      <td>9.355351</td>\n",
              "      <td>...</td>\n",
              "      <td>0.0</td>\n",
              "      <td>1.0</td>\n",
              "      <td>0.0</td>\n",
              "      <td>1.584963</td>\n",
              "      <td>0.0</td>\n",
              "      <td>0.000000</td>\n",
              "      <td>0.0</td>\n",
              "      <td>3.169925</td>\n",
              "      <td>4.857981</td>\n",
              "      <td>0</td>\n",
              "    </tr>\n",
              "    <tr>\n",
              "      <th>TCGA-AC-A23C-01A-12R-A169-07</th>\n",
              "      <td>6.832890</td>\n",
              "      <td>12.538189</td>\n",
              "      <td>11.606868</td>\n",
              "      <td>10.055282</td>\n",
              "      <td>8.848623</td>\n",
              "      <td>12.170551</td>\n",
              "      <td>12.151017</td>\n",
              "      <td>11.145932</td>\n",
              "      <td>12.099677</td>\n",
              "      <td>10.318543</td>\n",
              "      <td>...</td>\n",
              "      <td>0.0</td>\n",
              "      <td>0.0</td>\n",
              "      <td>0.0</td>\n",
              "      <td>1.000000</td>\n",
              "      <td>0.0</td>\n",
              "      <td>0.000000</td>\n",
              "      <td>0.0</td>\n",
              "      <td>7.066089</td>\n",
              "      <td>5.000000</td>\n",
              "      <td>0</td>\n",
              "    </tr>\n",
              "    <tr>\n",
              "      <th>TCGA-AR-A5QP-01A-11R-A28M-07</th>\n",
              "      <td>5.672425</td>\n",
              "      <td>11.074141</td>\n",
              "      <td>10.405141</td>\n",
              "      <td>8.891784</td>\n",
              "      <td>7.894818</td>\n",
              "      <td>11.253257</td>\n",
              "      <td>11.149112</td>\n",
              "      <td>11.365229</td>\n",
              "      <td>10.903129</td>\n",
              "      <td>8.842350</td>\n",
              "      <td>...</td>\n",
              "      <td>1.0</td>\n",
              "      <td>0.0</td>\n",
              "      <td>0.0</td>\n",
              "      <td>1.584963</td>\n",
              "      <td>0.0</td>\n",
              "      <td>0.000000</td>\n",
              "      <td>0.0</td>\n",
              "      <td>2.584963</td>\n",
              "      <td>5.000000</td>\n",
              "      <td>0</td>\n",
              "    </tr>\n",
              "    <tr>\n",
              "      <th>TCGA-C8-A12P-01A-11R-A115-07</th>\n",
              "      <td>0.000000</td>\n",
              "      <td>11.626622</td>\n",
              "      <td>10.463524</td>\n",
              "      <td>9.317413</td>\n",
              "      <td>8.873444</td>\n",
              "      <td>12.127027</td>\n",
              "      <td>11.338179</td>\n",
              "      <td>10.645658</td>\n",
              "      <td>10.631177</td>\n",
              "      <td>8.980140</td>\n",
              "      <td>...</td>\n",
              "      <td>0.0</td>\n",
              "      <td>0.0</td>\n",
              "      <td>0.0</td>\n",
              "      <td>3.807355</td>\n",
              "      <td>0.0</td>\n",
              "      <td>3.169925</td>\n",
              "      <td>0.0</td>\n",
              "      <td>1.000000</td>\n",
              "      <td>3.807355</td>\n",
              "      <td>0</td>\n",
              "    </tr>\n",
              "    <tr>\n",
              "      <th>...</th>\n",
              "      <td>...</td>\n",
              "      <td>...</td>\n",
              "      <td>...</td>\n",
              "      <td>...</td>\n",
              "      <td>...</td>\n",
              "      <td>...</td>\n",
              "      <td>...</td>\n",
              "      <td>...</td>\n",
              "      <td>...</td>\n",
              "      <td>...</td>\n",
              "      <td>...</td>\n",
              "      <td>...</td>\n",
              "      <td>...</td>\n",
              "      <td>...</td>\n",
              "      <td>...</td>\n",
              "      <td>...</td>\n",
              "      <td>...</td>\n",
              "      <td>...</td>\n",
              "      <td>...</td>\n",
              "      <td>...</td>\n",
              "      <td>...</td>\n",
              "    </tr>\n",
              "    <tr>\n",
              "      <th>TCGA-LL-A5YP-01A-21R-A28M-07</th>\n",
              "      <td>3.000000</td>\n",
              "      <td>11.302068</td>\n",
              "      <td>9.493855</td>\n",
              "      <td>9.306062</td>\n",
              "      <td>8.942515</td>\n",
              "      <td>11.781770</td>\n",
              "      <td>10.662668</td>\n",
              "      <td>9.592457</td>\n",
              "      <td>11.096715</td>\n",
              "      <td>9.292322</td>\n",
              "      <td>...</td>\n",
              "      <td>0.0</td>\n",
              "      <td>0.0</td>\n",
              "      <td>0.0</td>\n",
              "      <td>1.000000</td>\n",
              "      <td>0.0</td>\n",
              "      <td>1.000000</td>\n",
              "      <td>0.0</td>\n",
              "      <td>5.643856</td>\n",
              "      <td>3.807355</td>\n",
              "      <td>0</td>\n",
              "    </tr>\n",
              "    <tr>\n",
              "      <th>TCGA-AO-A03L-01A-41R-A056-07</th>\n",
              "      <td>2.000000</td>\n",
              "      <td>11.658211</td>\n",
              "      <td>10.784635</td>\n",
              "      <td>9.813781</td>\n",
              "      <td>8.344296</td>\n",
              "      <td>11.393927</td>\n",
              "      <td>10.882643</td>\n",
              "      <td>10.271463</td>\n",
              "      <td>11.979782</td>\n",
              "      <td>8.622052</td>\n",
              "      <td>...</td>\n",
              "      <td>0.0</td>\n",
              "      <td>0.0</td>\n",
              "      <td>0.0</td>\n",
              "      <td>1.000000</td>\n",
              "      <td>0.0</td>\n",
              "      <td>0.000000</td>\n",
              "      <td>0.0</td>\n",
              "      <td>0.000000</td>\n",
              "      <td>5.781360</td>\n",
              "      <td>0</td>\n",
              "    </tr>\n",
              "    <tr>\n",
              "      <th>TCGA-BH-A42T-01A-11R-A24H-07</th>\n",
              "      <td>5.357552</td>\n",
              "      <td>11.174926</td>\n",
              "      <td>10.303781</td>\n",
              "      <td>9.821774</td>\n",
              "      <td>9.541097</td>\n",
              "      <td>10.075479</td>\n",
              "      <td>11.700873</td>\n",
              "      <td>10.409391</td>\n",
              "      <td>11.465056</td>\n",
              "      <td>9.002815</td>\n",
              "      <td>...</td>\n",
              "      <td>1.0</td>\n",
              "      <td>0.0</td>\n",
              "      <td>0.0</td>\n",
              "      <td>3.584963</td>\n",
              "      <td>0.0</td>\n",
              "      <td>0.000000</td>\n",
              "      <td>0.0</td>\n",
              "      <td>0.000000</td>\n",
              "      <td>4.754888</td>\n",
              "      <td>0</td>\n",
              "    </tr>\n",
              "    <tr>\n",
              "      <th>TCGA-A2-A04W-01A-31R-A115-07</th>\n",
              "      <td>1.000000</td>\n",
              "      <td>10.903129</td>\n",
              "      <td>9.405141</td>\n",
              "      <td>8.189825</td>\n",
              "      <td>7.813781</td>\n",
              "      <td>10.041659</td>\n",
              "      <td>11.118941</td>\n",
              "      <td>9.459432</td>\n",
              "      <td>10.312883</td>\n",
              "      <td>9.385862</td>\n",
              "      <td>...</td>\n",
              "      <td>0.0</td>\n",
              "      <td>0.0</td>\n",
              "      <td>0.0</td>\n",
              "      <td>0.000000</td>\n",
              "      <td>0.0</td>\n",
              "      <td>2.584963</td>\n",
              "      <td>0.0</td>\n",
              "      <td>3.321928</td>\n",
              "      <td>5.129283</td>\n",
              "      <td>0</td>\n",
              "    </tr>\n",
              "    <tr>\n",
              "      <th>TCGA-AR-A24O-01A-11R-A169-07</th>\n",
              "      <td>5.882643</td>\n",
              "      <td>11.093418</td>\n",
              "      <td>10.237210</td>\n",
              "      <td>9.167418</td>\n",
              "      <td>8.654636</td>\n",
              "      <td>12.900867</td>\n",
              "      <td>10.924070</td>\n",
              "      <td>11.243174</td>\n",
              "      <td>11.831703</td>\n",
              "      <td>9.432542</td>\n",
              "      <td>...</td>\n",
              "      <td>0.0</td>\n",
              "      <td>0.0</td>\n",
              "      <td>0.0</td>\n",
              "      <td>1.584963</td>\n",
              "      <td>0.0</td>\n",
              "      <td>0.000000</td>\n",
              "      <td>1.0</td>\n",
              "      <td>3.584963</td>\n",
              "      <td>3.906891</td>\n",
              "      <td>0</td>\n",
              "    </tr>\n",
              "  </tbody>\n",
              "</table>\n",
              "<p>1224 rows × 31574 columns</p>\n",
              "</div>"
            ],
            "text/plain": [
              "                                  TNMD       DPM1      SCYL3      FIRRM  \\\n",
              "TCGA-A2-A25D-01A-12R-A16F-07  3.321928  10.802516  10.412570   8.761551   \n",
              "TCGA-BH-A201-01A-11R-A14M-07  4.954196  11.309476  10.865733   9.799282   \n",
              "TCGA-AC-A23C-01A-12R-A169-07  6.832890  12.538189  11.606868  10.055282   \n",
              "TCGA-AR-A5QP-01A-11R-A28M-07  5.672425  11.074141  10.405141   8.891784   \n",
              "TCGA-C8-A12P-01A-11R-A115-07  0.000000  11.626622  10.463524   9.317413   \n",
              "...                                ...        ...        ...        ...   \n",
              "TCGA-LL-A5YP-01A-21R-A28M-07  3.000000  11.302068   9.493855   9.306062   \n",
              "TCGA-AO-A03L-01A-41R-A056-07  2.000000  11.658211  10.784635   9.813781   \n",
              "TCGA-BH-A42T-01A-11R-A24H-07  5.357552  11.174926  10.303781   9.821774   \n",
              "TCGA-A2-A04W-01A-31R-A115-07  1.000000  10.903129   9.405141   8.189825   \n",
              "TCGA-AR-A24O-01A-11R-A169-07  5.882643  11.093418  10.237210   9.167418   \n",
              "\n",
              "                                   FGR        CFH      FUCA2       GCLC  \\\n",
              "TCGA-A2-A25D-01A-12R-A16F-07  9.859535  11.256209  12.131857  11.154185   \n",
              "TCGA-BH-A201-01A-11R-A14M-07  9.475733  12.087794  11.087463  11.272047   \n",
              "TCGA-AC-A23C-01A-12R-A169-07  8.848623  12.170551  12.151017  11.145932   \n",
              "TCGA-AR-A5QP-01A-11R-A28M-07  7.894818  11.253257  11.149112  11.365229   \n",
              "TCGA-C8-A12P-01A-11R-A115-07  8.873444  12.127027  11.338179  10.645658   \n",
              "...                                ...        ...        ...        ...   \n",
              "TCGA-LL-A5YP-01A-21R-A28M-07  8.942515  11.781770  10.662668   9.592457   \n",
              "TCGA-AO-A03L-01A-41R-A056-07  8.344296  11.393927  10.882643  10.271463   \n",
              "TCGA-BH-A42T-01A-11R-A24H-07  9.541097  10.075479  11.700873  10.409391   \n",
              "TCGA-A2-A04W-01A-31R-A115-07  7.813781  10.041659  11.118941   9.459432   \n",
              "TCGA-AR-A24O-01A-11R-A169-07  8.654636  12.900867  10.924070  11.243174   \n",
              "\n",
              "                                   NFYA      STPG1  ...  C8orf44-SGK3  \\\n",
              "TCGA-A2-A25D-01A-12R-A16F-07  11.294621   9.082149  ...           0.0   \n",
              "TCGA-BH-A201-01A-11R-A14M-07  11.890644   9.355351  ...           0.0   \n",
              "TCGA-AC-A23C-01A-12R-A169-07  12.099677  10.318543  ...           0.0   \n",
              "TCGA-AR-A5QP-01A-11R-A28M-07  10.903129   8.842350  ...           1.0   \n",
              "TCGA-C8-A12P-01A-11R-A115-07  10.631177   8.980140  ...           0.0   \n",
              "...                                 ...        ...  ...           ...   \n",
              "TCGA-LL-A5YP-01A-21R-A28M-07  11.096715   9.292322  ...           0.0   \n",
              "TCGA-AO-A03L-01A-41R-A056-07  11.979782   8.622052  ...           0.0   \n",
              "TCGA-BH-A42T-01A-11R-A24H-07  11.465056   9.002815  ...           1.0   \n",
              "TCGA-A2-A04W-01A-31R-A115-07  10.312883   9.385862  ...           0.0   \n",
              "TCGA-AR-A24O-01A-11R-A169-07  11.831703   9.432542  ...           0.0   \n",
              "\n",
              "                              SNORA74C-2  ELOA3BP    NPBWR1  ELOA3DP  \\\n",
              "TCGA-A2-A25D-01A-12R-A16F-07         1.0      0.0  0.000000      0.0   \n",
              "TCGA-BH-A201-01A-11R-A14M-07         1.0      0.0  1.584963      0.0   \n",
              "TCGA-AC-A23C-01A-12R-A169-07         0.0      0.0  1.000000      0.0   \n",
              "TCGA-AR-A5QP-01A-11R-A28M-07         0.0      0.0  1.584963      0.0   \n",
              "TCGA-C8-A12P-01A-11R-A115-07         0.0      0.0  3.807355      0.0   \n",
              "...                                  ...      ...       ...      ...   \n",
              "TCGA-LL-A5YP-01A-21R-A28M-07         0.0      0.0  1.000000      0.0   \n",
              "TCGA-AO-A03L-01A-41R-A056-07         0.0      0.0  1.000000      0.0   \n",
              "TCGA-BH-A42T-01A-11R-A24H-07         0.0      0.0  3.584963      0.0   \n",
              "TCGA-A2-A04W-01A-31R-A115-07         0.0      0.0  0.000000      0.0   \n",
              "TCGA-AR-A24O-01A-11R-A169-07         0.0      0.0  1.584963      0.0   \n",
              "\n",
              "                                LNCDAT  LOC124902537    RNF228     PANO1  \\\n",
              "TCGA-A2-A25D-01A-12R-A16F-07  0.000000           0.0  3.459432  4.459432   \n",
              "TCGA-BH-A201-01A-11R-A14M-07  0.000000           0.0  3.169925  4.857981   \n",
              "TCGA-AC-A23C-01A-12R-A169-07  0.000000           0.0  7.066089  5.000000   \n",
              "TCGA-AR-A5QP-01A-11R-A28M-07  0.000000           0.0  2.584963  5.000000   \n",
              "TCGA-C8-A12P-01A-11R-A115-07  3.169925           0.0  1.000000  3.807355   \n",
              "...                                ...           ...       ...       ...   \n",
              "TCGA-LL-A5YP-01A-21R-A28M-07  1.000000           0.0  5.643856  3.807355   \n",
              "TCGA-AO-A03L-01A-41R-A056-07  0.000000           0.0  0.000000  5.781360   \n",
              "TCGA-BH-A42T-01A-11R-A24H-07  0.000000           0.0  0.000000  4.754888   \n",
              "TCGA-A2-A04W-01A-31R-A115-07  2.584963           0.0  3.321928  5.129283   \n",
              "TCGA-AR-A24O-01A-11R-A169-07  0.000000           1.0  3.584963  3.906891   \n",
              "\n",
              "                              classes  \n",
              "TCGA-A2-A25D-01A-12R-A16F-07        0  \n",
              "TCGA-BH-A201-01A-11R-A14M-07        0  \n",
              "TCGA-AC-A23C-01A-12R-A169-07        0  \n",
              "TCGA-AR-A5QP-01A-11R-A28M-07        0  \n",
              "TCGA-C8-A12P-01A-11R-A115-07        0  \n",
              "...                               ...  \n",
              "TCGA-LL-A5YP-01A-21R-A28M-07        0  \n",
              "TCGA-AO-A03L-01A-41R-A056-07        0  \n",
              "TCGA-BH-A42T-01A-11R-A24H-07        0  \n",
              "TCGA-A2-A04W-01A-31R-A115-07        0  \n",
              "TCGA-AR-A24O-01A-11R-A169-07        0  \n",
              "\n",
              "[1224 rows x 31574 columns]"
            ]
          },
          "execution_count": 14,
          "metadata": {},
          "output_type": "execute_result"
        }
      ],
      "source": [
        "df.dropna()"
      ]
    },
    {
      "cell_type": "code",
      "execution_count": 15,
      "metadata": {
        "colab": {
          "base_uri": "https://localhost:8080/",
          "height": 793
        },
        "id": "T25lDzvDjx4g",
        "outputId": "562bf359-e58a-4260-fcd1-d6427ff0caf7"
      },
      "outputs": [
        {
          "data": {
            "text/html": [
              "<div>\n",
              "<style scoped>\n",
              "    .dataframe tbody tr th:only-of-type {\n",
              "        vertical-align: middle;\n",
              "    }\n",
              "\n",
              "    .dataframe tbody tr th {\n",
              "        vertical-align: top;\n",
              "    }\n",
              "\n",
              "    .dataframe thead th {\n",
              "        text-align: right;\n",
              "    }\n",
              "</style>\n",
              "<table border=\"1\" class=\"dataframe\">\n",
              "  <thead>\n",
              "    <tr style=\"text-align: right;\">\n",
              "      <th></th>\n",
              "      <th>TNMD</th>\n",
              "      <th>DPM1</th>\n",
              "      <th>SCYL3</th>\n",
              "      <th>FIRRM</th>\n",
              "      <th>FGR</th>\n",
              "      <th>CFH</th>\n",
              "      <th>FUCA2</th>\n",
              "      <th>GCLC</th>\n",
              "      <th>NFYA</th>\n",
              "      <th>STPG1</th>\n",
              "      <th>...</th>\n",
              "      <th>C8orf44-SGK3</th>\n",
              "      <th>SNORA74C-2</th>\n",
              "      <th>ELOA3BP</th>\n",
              "      <th>NPBWR1</th>\n",
              "      <th>ELOA3DP</th>\n",
              "      <th>LNCDAT</th>\n",
              "      <th>LOC124902537</th>\n",
              "      <th>RNF228</th>\n",
              "      <th>PANO1</th>\n",
              "      <th>classes</th>\n",
              "    </tr>\n",
              "  </thead>\n",
              "  <tbody>\n",
              "    <tr>\n",
              "      <th>TCGA-A2-A25D-01A-12R-A16F-07</th>\n",
              "      <td>3.321928</td>\n",
              "      <td>10.802516</td>\n",
              "      <td>10.412570</td>\n",
              "      <td>8.761551</td>\n",
              "      <td>9.859535</td>\n",
              "      <td>11.256209</td>\n",
              "      <td>12.131857</td>\n",
              "      <td>11.154185</td>\n",
              "      <td>11.294621</td>\n",
              "      <td>9.082149</td>\n",
              "      <td>...</td>\n",
              "      <td>0.0</td>\n",
              "      <td>1.0</td>\n",
              "      <td>0.0</td>\n",
              "      <td>0.000000</td>\n",
              "      <td>0.0</td>\n",
              "      <td>0.000000</td>\n",
              "      <td>0.0</td>\n",
              "      <td>3.459432</td>\n",
              "      <td>4.459432</td>\n",
              "      <td>0</td>\n",
              "    </tr>\n",
              "    <tr>\n",
              "      <th>TCGA-BH-A201-01A-11R-A14M-07</th>\n",
              "      <td>4.954196</td>\n",
              "      <td>11.309476</td>\n",
              "      <td>10.865733</td>\n",
              "      <td>9.799282</td>\n",
              "      <td>9.475733</td>\n",
              "      <td>12.087794</td>\n",
              "      <td>11.087463</td>\n",
              "      <td>11.272047</td>\n",
              "      <td>11.890644</td>\n",
              "      <td>9.355351</td>\n",
              "      <td>...</td>\n",
              "      <td>0.0</td>\n",
              "      <td>1.0</td>\n",
              "      <td>0.0</td>\n",
              "      <td>1.584963</td>\n",
              "      <td>0.0</td>\n",
              "      <td>0.000000</td>\n",
              "      <td>0.0</td>\n",
              "      <td>3.169925</td>\n",
              "      <td>4.857981</td>\n",
              "      <td>0</td>\n",
              "    </tr>\n",
              "    <tr>\n",
              "      <th>TCGA-AC-A23C-01A-12R-A169-07</th>\n",
              "      <td>6.832890</td>\n",
              "      <td>12.538189</td>\n",
              "      <td>11.606868</td>\n",
              "      <td>10.055282</td>\n",
              "      <td>8.848623</td>\n",
              "      <td>12.170551</td>\n",
              "      <td>12.151017</td>\n",
              "      <td>11.145932</td>\n",
              "      <td>12.099677</td>\n",
              "      <td>10.318543</td>\n",
              "      <td>...</td>\n",
              "      <td>0.0</td>\n",
              "      <td>0.0</td>\n",
              "      <td>0.0</td>\n",
              "      <td>1.000000</td>\n",
              "      <td>0.0</td>\n",
              "      <td>0.000000</td>\n",
              "      <td>0.0</td>\n",
              "      <td>7.066089</td>\n",
              "      <td>5.000000</td>\n",
              "      <td>0</td>\n",
              "    </tr>\n",
              "    <tr>\n",
              "      <th>TCGA-AR-A5QP-01A-11R-A28M-07</th>\n",
              "      <td>5.672425</td>\n",
              "      <td>11.074141</td>\n",
              "      <td>10.405141</td>\n",
              "      <td>8.891784</td>\n",
              "      <td>7.894818</td>\n",
              "      <td>11.253257</td>\n",
              "      <td>11.149112</td>\n",
              "      <td>11.365229</td>\n",
              "      <td>10.903129</td>\n",
              "      <td>8.842350</td>\n",
              "      <td>...</td>\n",
              "      <td>1.0</td>\n",
              "      <td>0.0</td>\n",
              "      <td>0.0</td>\n",
              "      <td>1.584963</td>\n",
              "      <td>0.0</td>\n",
              "      <td>0.000000</td>\n",
              "      <td>0.0</td>\n",
              "      <td>2.584963</td>\n",
              "      <td>5.000000</td>\n",
              "      <td>0</td>\n",
              "    </tr>\n",
              "    <tr>\n",
              "      <th>TCGA-C8-A12P-01A-11R-A115-07</th>\n",
              "      <td>0.000000</td>\n",
              "      <td>11.626622</td>\n",
              "      <td>10.463524</td>\n",
              "      <td>9.317413</td>\n",
              "      <td>8.873444</td>\n",
              "      <td>12.127027</td>\n",
              "      <td>11.338179</td>\n",
              "      <td>10.645658</td>\n",
              "      <td>10.631177</td>\n",
              "      <td>8.980140</td>\n",
              "      <td>...</td>\n",
              "      <td>0.0</td>\n",
              "      <td>0.0</td>\n",
              "      <td>0.0</td>\n",
              "      <td>3.807355</td>\n",
              "      <td>0.0</td>\n",
              "      <td>3.169925</td>\n",
              "      <td>0.0</td>\n",
              "      <td>1.000000</td>\n",
              "      <td>3.807355</td>\n",
              "      <td>0</td>\n",
              "    </tr>\n",
              "  </tbody>\n",
              "</table>\n",
              "<p>5 rows × 31574 columns</p>\n",
              "</div>"
            ],
            "text/plain": [
              "                                  TNMD       DPM1      SCYL3      FIRRM  \\\n",
              "TCGA-A2-A25D-01A-12R-A16F-07  3.321928  10.802516  10.412570   8.761551   \n",
              "TCGA-BH-A201-01A-11R-A14M-07  4.954196  11.309476  10.865733   9.799282   \n",
              "TCGA-AC-A23C-01A-12R-A169-07  6.832890  12.538189  11.606868  10.055282   \n",
              "TCGA-AR-A5QP-01A-11R-A28M-07  5.672425  11.074141  10.405141   8.891784   \n",
              "TCGA-C8-A12P-01A-11R-A115-07  0.000000  11.626622  10.463524   9.317413   \n",
              "\n",
              "                                   FGR        CFH      FUCA2       GCLC  \\\n",
              "TCGA-A2-A25D-01A-12R-A16F-07  9.859535  11.256209  12.131857  11.154185   \n",
              "TCGA-BH-A201-01A-11R-A14M-07  9.475733  12.087794  11.087463  11.272047   \n",
              "TCGA-AC-A23C-01A-12R-A169-07  8.848623  12.170551  12.151017  11.145932   \n",
              "TCGA-AR-A5QP-01A-11R-A28M-07  7.894818  11.253257  11.149112  11.365229   \n",
              "TCGA-C8-A12P-01A-11R-A115-07  8.873444  12.127027  11.338179  10.645658   \n",
              "\n",
              "                                   NFYA      STPG1  ...  C8orf44-SGK3  \\\n",
              "TCGA-A2-A25D-01A-12R-A16F-07  11.294621   9.082149  ...           0.0   \n",
              "TCGA-BH-A201-01A-11R-A14M-07  11.890644   9.355351  ...           0.0   \n",
              "TCGA-AC-A23C-01A-12R-A169-07  12.099677  10.318543  ...           0.0   \n",
              "TCGA-AR-A5QP-01A-11R-A28M-07  10.903129   8.842350  ...           1.0   \n",
              "TCGA-C8-A12P-01A-11R-A115-07  10.631177   8.980140  ...           0.0   \n",
              "\n",
              "                              SNORA74C-2  ELOA3BP    NPBWR1  ELOA3DP  \\\n",
              "TCGA-A2-A25D-01A-12R-A16F-07         1.0      0.0  0.000000      0.0   \n",
              "TCGA-BH-A201-01A-11R-A14M-07         1.0      0.0  1.584963      0.0   \n",
              "TCGA-AC-A23C-01A-12R-A169-07         0.0      0.0  1.000000      0.0   \n",
              "TCGA-AR-A5QP-01A-11R-A28M-07         0.0      0.0  1.584963      0.0   \n",
              "TCGA-C8-A12P-01A-11R-A115-07         0.0      0.0  3.807355      0.0   \n",
              "\n",
              "                                LNCDAT  LOC124902537    RNF228     PANO1  \\\n",
              "TCGA-A2-A25D-01A-12R-A16F-07  0.000000           0.0  3.459432  4.459432   \n",
              "TCGA-BH-A201-01A-11R-A14M-07  0.000000           0.0  3.169925  4.857981   \n",
              "TCGA-AC-A23C-01A-12R-A169-07  0.000000           0.0  7.066089  5.000000   \n",
              "TCGA-AR-A5QP-01A-11R-A28M-07  0.000000           0.0  2.584963  5.000000   \n",
              "TCGA-C8-A12P-01A-11R-A115-07  3.169925           0.0  1.000000  3.807355   \n",
              "\n",
              "                              classes  \n",
              "TCGA-A2-A25D-01A-12R-A16F-07        0  \n",
              "TCGA-BH-A201-01A-11R-A14M-07        0  \n",
              "TCGA-AC-A23C-01A-12R-A169-07        0  \n",
              "TCGA-AR-A5QP-01A-11R-A28M-07        0  \n",
              "TCGA-C8-A12P-01A-11R-A115-07        0  \n",
              "\n",
              "[5 rows x 31574 columns]"
            ]
          },
          "execution_count": 15,
          "metadata": {},
          "output_type": "execute_result"
        }
      ],
      "source": [
        "df.head()"
      ]
    },
    {
      "cell_type": "code",
      "execution_count": 16,
      "metadata": {
        "colab": {
          "base_uri": "https://localhost:8080/"
        },
        "id": "RYMpSf58kSJW",
        "outputId": "f8987713-0c61-4d2d-ac38-999b6c4eb204"
      },
      "outputs": [
        {
          "name": "stderr",
          "output_type": "stream",
          "text": [
            "c:\\RHEA\\S7\\Project\\Code\\Cancer-Classification\\venv\\Lib\\site-packages\\xgboost\\training.py:183: UserWarning: [18:35:25] WARNING: C:\\actions-runner\\_work\\xgboost\\xgboost\\src\\learner.cc:738: \n",
            "Parameters: { \"use_label_encoder\" } are not used.\n",
            "\n",
            "  bst.update(dtrain, iteration=i, fobj=obj)\n"
          ]
        },
        {
          "name": "stdout",
          "output_type": "stream",
          "text": [
            "Top 1000 genes saved to 'top_1000_genes_breast_cancer.csv'\n"
          ]
        }
      ],
      "source": [
        "model = xgb.XGBClassifier(use_label_encoder=False, eval_metric='logloss')\n",
        "model.fit(X_train, y_train)\n",
        "\n",
        "# 4. Get feature importances\n",
        "\n",
        "feature_importances = model.feature_importances_\n",
        "feature_names = X.columns\n",
        "\n",
        "# Create a DataFrame for importances\n",
        "importance_df = pd.DataFrame({\n",
        "    'Gene': feature_names,\n",
        "    'Importance': feature_importances\n",
        "})\n",
        "\n",
        "# ---------------------------\n",
        "# 5. Select Top 1000 Genes\n",
        "# ---------------------------\n",
        "top_genes_df = importance_df.sort_values(by='Importance', ascending=False).head(1000)\n",
        "\n",
        "# Optional: Save to CSV\n",
        "top_genes_df.to_csv('top_1000_genes_breast_cancer.csv', index=False)\n",
        "\n",
        "# ---------------------------\n",
        "# DONE!\n",
        "# ---------------------------\n",
        "print(\"Top 1000 genes saved to 'top_1000_genes_breast_cancer.csv'\")\n",
        "\n"
      ]
    },
    {
      "cell_type": "markdown",
      "metadata": {
        "id": "_l8ar1RKbF5F"
      },
      "source": [
        "# None + RF"
      ]
    },
    {
      "cell_type": "code",
      "execution_count": 17,
      "metadata": {
        "colab": {
          "base_uri": "https://localhost:8080/"
        },
        "id": "U1sN9vPLbHwY",
        "outputId": "a563f8dd-9254-4d90-8427-d7d3539a9fd6"
      },
      "outputs": [
        {
          "name": "stdout",
          "output_type": "stream",
          "text": [
            "Accuracy: 0.9755\n",
            "Precision: 0.9032\n",
            "AUC: 0.9950\n",
            "Kappa: 0.8482\n"
          ]
        }
      ],
      "source": [
        "# Initialize and train the Random Forest classifier\n",
        "rf = RandomForestClassifier(n_estimators=100, random_state=42)\n",
        "rf.fit(X_train, y_train)\n",
        "\n",
        "# Make predictions\n",
        "y_pred = rf.predict(X_test)\n",
        "y_pred_proba = rf.predict_proba(X_test)[:, 1]  # Probability estimates for AUC calculation\n",
        "\n",
        "# Evaluate model performance\n",
        "accuracy = accuracy_score(y_test, y_pred)\n",
        "precision = precision_score(y_test, y_pred)\n",
        "auc = roc_auc_score(y_test, y_pred_proba)\n",
        "kappa = cohen_kappa_score(y_test, y_pred)\n",
        "\n",
        "# Print evaluation metrics\n",
        "print(f\"Accuracy: {accuracy:.4f}\")\n",
        "print(f\"Precision: {precision:.4f}\")\n",
        "print(f\"AUC: {auc:.4f}\")\n",
        "print(f\"Kappa: {kappa:.4f}\")"
      ]
    },
    {
      "cell_type": "markdown",
      "metadata": {
        "id": "2y_u3oI2MmfO"
      },
      "source": [
        "\n",
        "#None + XGB"
      ]
    },
    {
      "cell_type": "code",
      "execution_count": 18,
      "metadata": {
        "colab": {
          "base_uri": "https://localhost:8080/"
        },
        "id": "jEGHDoiiMmJV",
        "outputId": "0259c5f5-6db8-47c6-be18-af0bef3e41b4"
      },
      "outputs": [
        {
          "name": "stdout",
          "output_type": "stream",
          "text": [
            "Accuracy: 0.9837\n",
            "Precision: 0.9375\n",
            "AUC: 0.9948\n",
            "Kappa: 0.9001\n"
          ]
        }
      ],
      "source": [
        "\n",
        "# Initialize and train the XGBoost classifier\n",
        "xgb_clf = xgb.XGBClassifier(n_estimators=100, random_state=42, eval_metric=\"logloss\")\n",
        "xgb_clf.fit(X_train, y_train)\n",
        "\n",
        "# Make predictions\n",
        "y_pred = xgb_clf.predict(X_test)\n",
        "y_pred_proba = xgb_clf.predict_proba(X_test)[:, 1]  # Probability estimates for AUC calculation\n",
        "\n",
        "# Evaluate model performance\n",
        "accuracy = accuracy_score(y_test, y_pred)\n",
        "precision = precision_score(y_test, y_pred)\n",
        "auc = roc_auc_score(y_test, y_pred_proba)\n",
        "kappa = cohen_kappa_score(y_test, y_pred)\n",
        "\n",
        "# Print evaluation metrics\n",
        "print(f\"Accuracy: {accuracy:.4f}\")\n",
        "print(f\"Precision: {precision:.4f}\")\n",
        "print(f\"AUC: {auc:.4f}\")\n",
        "print(f\"Kappa: {kappa:.4f}\")"
      ]
    },
    {
      "cell_type": "markdown",
      "metadata": {
        "id": "s8-GbUGONuBS"
      },
      "source": [
        "# #None + LR"
      ]
    },
    {
      "cell_type": "code",
      "execution_count": 19,
      "metadata": {
        "colab": {
          "base_uri": "https://localhost:8080/"
        },
        "id": "Yi5OeFx_NyNA",
        "outputId": "0a60ab1e-8e83-4d28-93ce-2117bcfd2b40"
      },
      "outputs": [
        {
          "name": "stdout",
          "output_type": "stream",
          "text": [
            "(array([0, 1]), array([333,  35]))\n",
            "cvs: 0.9950920040147206\n",
            "Accuracy: 0.9864\n",
            "Precision: 0.9143\n",
            "AUC: 0.9975\n",
            "Kappa: 0.9200\n"
          ]
        }
      ],
      "source": [
        "# Initialize and train the Logistic Regression model\n",
        "from sklearn.model_selection import cross_val_score\n",
        "import pandas as pd\n",
        "\n",
        "lr = LogisticRegression(max_iter=1000, random_state=42)\n",
        "lr.fit(X_train, y_train)\n",
        "\n",
        "\n",
        "# Make predictions\n",
        "y_pred = lr.predict(X_test)\n",
        "y_pred_proba = lr.predict_proba(X_test)[:, 1]  # Probability estimates for AUC calculation\n",
        "\n",
        "scores = cross_val_score(lr, X, y, cv=5, scoring='accuracy')\n",
        "\n",
        "\n",
        "# Evaluate model performance\n",
        "accuracy = accuracy_score(y_test, y_pred)\n",
        "precision = precision_score(y_test, y_pred)\n",
        "auc = roc_auc_score(y_test, y_pred_proba)\n",
        "kappa = cohen_kappa_score(y_test, y_pred)\n",
        "\n",
        "print(np.unique(y_pred, return_counts=True))\n",
        "\n",
        "\n",
        "# Print evaluation metrics\n",
        "print(\"cvs:\",scores.mean())\n",
        "print(f\"Accuracy: {accuracy:.4f}\")\n",
        "print(f\"Precision: {precision:.4f}\")\n",
        "print(f\"AUC: {auc:.4f}\")\n",
        "print(f\"Kappa: {kappa:.4f}\")"
      ]
    },
    {
      "cell_type": "markdown",
      "metadata": {
        "id": "Apfkq296OjFt"
      },
      "source": [
        "# None + SVM"
      ]
    },
    {
      "cell_type": "code",
      "execution_count": 20,
      "metadata": {
        "colab": {
          "base_uri": "https://localhost:8080/"
        },
        "id": "0YfWeeFgOpAq",
        "outputId": "225aaeaf-c3bf-4dd4-ea76-100ce120b71f"
      },
      "outputs": [
        {
          "name": "stdout",
          "output_type": "stream",
          "text": [
            "Accuracy: 0.9864\n",
            "Precision: 0.9394\n",
            "AUC: 0.9974\n",
            "Kappa: 0.9179\n"
          ]
        }
      ],
      "source": [
        "# Initialize and train the SVM model (with probability=True for AUC calculation)\n",
        "svm_clf = SVC(kernel='rbf', probability=True, random_state=42)\n",
        "svm_clf.fit(X_train, y_train)\n",
        "\n",
        "# Make predictions\n",
        "y_pred = svm_clf.predict(X_test)\n",
        "y_pred_proba = svm_clf.predict_proba(X_test)[:, 1]  # Probability estimates for AUC calculation\n",
        "\n",
        "# Evaluate model performance\n",
        "accuracy = accuracy_score(y_test, y_pred)\n",
        "precision = precision_score(y_test, y_pred)\n",
        "auc = roc_auc_score(y_test, y_pred_proba)\n",
        "kappa = cohen_kappa_score(y_test, y_pred)\n",
        "\n",
        "# Print evaluation metrics\n",
        "print(f\"Accuracy: {accuracy:.4f}\")\n",
        "print(f\"Precision: {precision:.4f}\")\n",
        "print(f\"AUC: {auc:.4f}\")\n",
        "print(f\"Kappa: {kappa:.4f}\")\n"
      ]
    },
    {
      "cell_type": "markdown",
      "metadata": {
        "id": "oEK2XYyZO-nk"
      },
      "source": [
        "#XGB + SVM"
      ]
    },
    {
      "cell_type": "code",
      "execution_count": 21,
      "metadata": {
        "colab": {
          "base_uri": "https://localhost:8080/",
          "height": 211
        },
        "id": "Fqr9yCkxQYNA",
        "outputId": "76da5a05-5b4e-404a-a3ee-8dfd247a613c"
      },
      "outputs": [
        {
          "name": "stderr",
          "output_type": "stream",
          "text": [
            "c:\\RHEA\\S7\\Project\\Code\\Cancer-Classification\\venv\\Lib\\site-packages\\xgboost\\training.py:183: UserWarning: [18:39:50] WARNING: C:\\actions-runner\\_work\\xgboost\\xgboost\\src\\learner.cc:738: \n",
            "Parameters: { \"use_label_encoder\" } are not used.\n",
            "\n",
            "  bst.update(dtrain, iteration=i, fobj=obj)\n",
            "C:\\Users\\rheam\\AppData\\Local\\Temp\\ipykernel_23932\\711342746.py:48: FutureWarning: The behavior of DataFrame concatenation with empty or all-NA entries is deprecated. In a future version, this will no longer exclude empty or all-NA columns when determining the result dtypes. To retain the old behavior, exclude the relevant entries before the concat operation.\n",
            "  results_df = pd.concat([results_df, pd.DataFrame([[num_features, auc, accuracy, precision, kappa]],\n"
          ]
        },
        {
          "name": "stdout",
          "output_type": "stream",
          "text": [
            "  Features       AUC  Accuracy  Precision     Kappa\n",
            "0       10  0.996037  0.989130   0.941176  0.935188\n",
            "1       50  0.997094  0.989130   0.941176  0.935188\n",
            "2      100  0.997094  0.989130   0.941176  0.935188\n",
            "3      500  0.996037  0.986413   0.939394  0.917901\n",
            "4     1000  0.995685  0.986413   0.939394  0.917901\n"
          ]
        }
      ],
      "source": [
        "#XGB + SVM\n",
        "from sklearn.preprocessing import StandardScaler\n",
        "# Train XGBoost to get feature importances\n",
        "xgb_selector = XGBClassifier(n_estimators=500, learning_rate=0.05, max_depth=6,\n",
        "                             subsample=0.8, colsample_bytree=0.8, random_state=42,\n",
        "                             use_label_encoder=False, eval_metric=\"logloss\")\n",
        "\n",
        "xgb_selector.fit(X_train, y_train)\n",
        "\n",
        "# Get feature importances\n",
        "feature_importances = pd.Series(xgb_selector.feature_importances_, index=X.columns)\n",
        "\n",
        "# List of feature selection counts\n",
        "feature_counts = [10, 50, 100, 500, 1000]\n",
        "\n",
        "# Initialize a DataFrame to store results\n",
        "results_df = pd.DataFrame(columns=[\"Features\", \"AUC\", \"Accuracy\", \"Precision\", \"Kappa\"])\n",
        "\n",
        "# Loop through different feature counts\n",
        "for num_features in feature_counts:\n",
        "    # Select top N features\n",
        "    top_features = feature_importances.nlargest(num_features).index.tolist()\n",
        "\n",
        "    # Filter dataset with selected features\n",
        "    X_train_selected = X_train[top_features]\n",
        "    X_test_selected = X_test[top_features]\n",
        "\n",
        "    # Standardize the features (important for SVM)\n",
        "    scaler = StandardScaler()\n",
        "    X_train_scaled = scaler.fit_transform(X_train_selected)\n",
        "    X_test_scaled = scaler.transform(X_test_selected)\n",
        "\n",
        "    # Train SVM classifier\n",
        "    svm_clf = SVC(kernel=\"rbf\", C=1.0, probability=True, random_state=42)\n",
        "    svm_clf.fit(X_train_scaled, y_train)\n",
        "\n",
        "    # Make predictions\n",
        "    y_pred = svm_clf.predict(X_test_scaled)\n",
        "    y_pred_proba = svm_clf.predict_proba(X_test_scaled)[:, 1]  # Probability estimates for AUC calculation\n",
        "\n",
        "    # Evaluate model performance\n",
        "    accuracy = accuracy_score(y_test, y_pred)\n",
        "    precision = precision_score(y_test, y_pred)\n",
        "    auc = roc_auc_score(y_test, y_pred_proba)\n",
        "    kappa = cohen_kappa_score(y_test, y_pred)\n",
        "\n",
        "    # Store results in DataFrame\n",
        "    results_df = pd.concat([results_df, pd.DataFrame([[num_features, auc, accuracy, precision, kappa]],\n",
        "                                                      columns=[\"Features\", \"AUC\", \"Accuracy\", \"Precision\", \"Kappa\"])],\n",
        "                                                      ignore_index=True)\n",
        "\n",
        "# Display final results\n",
        "print(results_df)\n"
      ]
    },
    {
      "cell_type": "markdown",
      "metadata": {
        "id": "8bFZHObwRAKB"
      },
      "source": [
        "# XGB + LR"
      ]
    },
    {
      "cell_type": "code",
      "execution_count": 22,
      "metadata": {
        "id": "GcNs6FaXQ_mB"
      },
      "outputs": [
        {
          "name": "stderr",
          "output_type": "stream",
          "text": [
            "c:\\RHEA\\S7\\Project\\Code\\Cancer-Classification\\venv\\Lib\\site-packages\\xgboost\\training.py:183: UserWarning: [18:43:52] WARNING: C:\\actions-runner\\_work\\xgboost\\xgboost\\src\\learner.cc:738: \n",
            "Parameters: { \"use_label_encoder\" } are not used.\n",
            "\n",
            "  bst.update(dtrain, iteration=i, fobj=obj)\n",
            "C:\\Users\\rheam\\AppData\\Local\\Temp\\ipykernel_23932\\756624066.py:46: FutureWarning: The behavior of DataFrame concatenation with empty or all-NA entries is deprecated. In a future version, this will no longer exclude empty or all-NA columns when determining the result dtypes. To retain the old behavior, exclude the relevant entries before the concat operation.\n",
            "  results_df = pd.concat([results_df, pd.DataFrame([[num_features, auc, accuracy, precision, kappa]],\n"
          ]
        },
        {
          "name": "stdout",
          "output_type": "stream",
          "text": [
            "  Features       AUC  Accuracy  Precision     Kappa\n",
            "0       10  0.997799  0.991848   0.942857  0.952025\n",
            "1       50  0.997446  0.989130   0.941176  0.935188\n",
            "2      100  0.997799  0.994565   0.944444  0.968428\n",
            "3      500  0.998151  0.991848   0.918919  0.953244\n",
            "4     1000  0.998415  0.991848   0.918919  0.953244\n"
          ]
        }
      ],
      "source": [
        "# Train XGBoost to get feature importances\n",
        "xgb_selector = XGBClassifier(n_estimators=500, learning_rate=0.05, max_depth=6,\n",
        "                             subsample=0.8, colsample_bytree=0.8, random_state=42,\n",
        "                             use_label_encoder=False, eval_metric=\"logloss\")\n",
        "\n",
        "xgb_selector.fit(X_train, y_train)\n",
        "\n",
        "# Get feature importances\n",
        "feature_importances = pd.Series(xgb_selector.feature_importances_, index=X.columns)\n",
        "\n",
        "# List of feature selection counts\n",
        "feature_counts = [10, 50, 100, 500, 1000]\n",
        "\n",
        "# Initialize a DataFrame to store results\n",
        "results_df = pd.DataFrame(columns=[\"Features\", \"AUC\", \"Accuracy\", \"Precision\", \"Kappa\"])\n",
        "\n",
        "# Loop through different feature counts\n",
        "for num_features in feature_counts:\n",
        "    # Select top N features\n",
        "    top_features = feature_importances.nlargest(num_features).index.tolist()\n",
        "\n",
        "    # Filter dataset with selected features\n",
        "    X_train_selected = X_train[top_features]\n",
        "    X_test_selected = X_test[top_features]\n",
        "\n",
        "    # Standardize the features (important for Logistic Regression)\n",
        "    scaler = StandardScaler()\n",
        "    X_train_scaled = scaler.fit_transform(X_train_selected)\n",
        "    X_test_scaled = scaler.transform(X_test_selected)\n",
        "\n",
        "    # Train Logistic Regression classifier\n",
        "    lr_clf = LogisticRegression(solver=\"liblinear\", C=1.0, random_state=42)\n",
        "    lr_clf.fit(X_train_scaled, y_train)\n",
        "\n",
        "    # Make predictions\n",
        "    y_pred = lr_clf.predict(X_test_scaled)\n",
        "    y_pred_proba = lr_clf.predict_proba(X_test_scaled)[:, 1]  # Probability estimates for AUC calculation\n",
        "\n",
        "    # Evaluate model performance\n",
        "    accuracy = accuracy_score(y_test, y_pred)\n",
        "    precision = precision_score(y_test, y_pred)\n",
        "    auc = roc_auc_score(y_test, y_pred_proba)\n",
        "    kappa = cohen_kappa_score(y_test, y_pred)\n",
        "\n",
        "    # Store results in DataFrame\n",
        "    results_df = pd.concat([results_df, pd.DataFrame([[num_features, auc, accuracy, precision, kappa]],\n",
        "                                                      columns=[\"Features\", \"AUC\", \"Accuracy\", \"Precision\", \"Kappa\"])],\n",
        "                                                      ignore_index=True)\n",
        "\n",
        "# Display final results\n",
        "print(results_df)\n"
      ]
    },
    {
      "cell_type": "markdown",
      "metadata": {
        "id": "jpIrdZJJRVlr"
      },
      "source": [
        "# XGB + RF\n",
        "\n"
      ]
    },
    {
      "cell_type": "code",
      "execution_count": 23,
      "metadata": {
        "id": "o3NOeUVdRa93"
      },
      "outputs": [
        {
          "name": "stderr",
          "output_type": "stream",
          "text": [
            "c:\\RHEA\\S7\\Project\\Code\\Cancer-Classification\\venv\\Lib\\site-packages\\xgboost\\training.py:183: UserWarning: [18:46:37] WARNING: C:\\actions-runner\\_work\\xgboost\\xgboost\\src\\learner.cc:738: \n",
            "Parameters: { \"use_label_encoder\" } are not used.\n",
            "\n",
            "  bst.update(dtrain, iteration=i, fobj=obj)\n",
            "C:\\Users\\rheam\\AppData\\Local\\Temp\\ipykernel_23932\\3114707820.py:45: FutureWarning: The behavior of DataFrame concatenation with empty or all-NA entries is deprecated. In a future version, this will no longer exclude empty or all-NA columns when determining the result dtypes. To retain the old behavior, exclude the relevant entries before the concat operation.\n",
            "  results_df = pd.concat([results_df, pd.DataFrame([[num_features, auc, accuracy, precision, kappa]],\n"
          ]
        },
        {
          "name": "stdout",
          "output_type": "stream",
          "text": [
            "  Features       AUC  Accuracy  Precision     Kappa\n",
            "0       10  0.995553  0.983696   0.911765  0.902783\n",
            "1       50  0.996566  0.986413   0.939394  0.917901\n",
            "2      100  0.996434  0.986413   0.939394  0.917901\n",
            "3      500  0.996213  0.983696   0.937500  0.900145\n",
            "4     1000  0.996302  0.983696   0.937500  0.900145\n"
          ]
        }
      ],
      "source": [
        "#XGB + RF\n",
        "# Train XGBoost to get feature importances\n",
        "xgb_selector = XGBClassifier(\n",
        "    n_estimators=500, learning_rate=0.05, max_depth=6,\n",
        "    subsample=0.8, colsample_bytree=0.8, random_state=42,\n",
        "    use_label_encoder=False, eval_metric=\"logloss\"\n",
        ")\n",
        "\n",
        "xgb_selector.fit(X_train, y_train)\n",
        "\n",
        "# Get feature importances\n",
        "feature_importances = pd.Series(xgb_selector.feature_importances_, index=X.columns)\n",
        "\n",
        "# List of feature selection counts\n",
        "feature_counts = [10, 50, 100, 500, 1000]\n",
        "\n",
        "# Initialize a DataFrame to store results\n",
        "results_df = pd.DataFrame(columns=[\"Features\", \"AUC\", \"Accuracy\", \"Precision\", \"Kappa\"])\n",
        "\n",
        "# Loop through different feature counts\n",
        "for num_features in feature_counts:\n",
        "    # Select top N features\n",
        "    top_features = feature_importances.nlargest(num_features).index.tolist()\n",
        "\n",
        "    # Filter dataset with selected features\n",
        "    X_train_selected = X_train[top_features]\n",
        "    X_test_selected = X_test[top_features]\n",
        "\n",
        "    # Train Random Forest classifier\n",
        "    rf_clf = RandomForestClassifier(n_estimators=500, max_depth=None, min_samples_split=2,\n",
        "                                    random_state=42, n_jobs=-1)\n",
        "    rf_clf.fit(X_train_selected, y_train)\n",
        "\n",
        "    # Make predictions\n",
        "    y_pred = rf_clf.predict(X_test_selected)\n",
        "    y_pred_proba = rf_clf.predict_proba(X_test_selected)[:, 1]  # Probability estimates for AUC calculation\n",
        "\n",
        "    # Evaluate model performance\n",
        "    accuracy = accuracy_score(y_test, y_pred)\n",
        "    precision = precision_score(y_test, y_pred)\n",
        "    auc = roc_auc_score(y_test, y_pred_proba)\n",
        "    kappa = cohen_kappa_score(y_test, y_pred)\n",
        "\n",
        "    # Store results in DataFrame\n",
        "    results_df = pd.concat([results_df, pd.DataFrame([[num_features, auc, accuracy, precision, kappa]],\n",
        "                                                      columns=[\"Features\", \"AUC\", \"Accuracy\", \"Precision\", \"Kappa\"])],\n",
        "                                                      ignore_index=True)\n",
        "\n",
        "# Display final results\n",
        "print(results_df)"
      ]
    }
  ],
  "metadata": {
    "colab": {
      "authorship_tag": "ABX9TyPgeVO6VS2BpzGBqOOsf/mb",
      "collapsed_sections": [
        "2y_u3oI2MmfO",
        "s8-GbUGONuBS",
        "Apfkq296OjFt",
        "8bFZHObwRAKB",
        "jpIrdZJJRVlr"
      ],
      "include_colab_link": true,
      "provenance": []
    },
    "kernelspec": {
      "display_name": "venv",
      "language": "python",
      "name": "python3"
    },
    "language_info": {
      "codemirror_mode": {
        "name": "ipython",
        "version": 3
      },
      "file_extension": ".py",
      "mimetype": "text/x-python",
      "name": "python",
      "nbconvert_exporter": "python",
      "pygments_lexer": "ipython3",
      "version": "3.13.2"
    }
  },
  "nbformat": 4,
  "nbformat_minor": 0
}
